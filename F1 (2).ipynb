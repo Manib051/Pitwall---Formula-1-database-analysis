{
 "cells": [
  {
   "cell_type": "markdown",
   "id": "29858286-20fc-4e45-b408-dd5b0b631637",
   "metadata": {},
   "source": [
    "# Pitwall : Formula 1 Database scraper and analysis \n",
    "### Name: Mani Botla\n",
    "\n",
    "### Date: 08/03/25\n",
    "\n",
    "This notebook scrpaes Formula 1 data from five different pages on https://pitwall.app/ , including: \n",
    "\n",
    "- Race records from 1950 to 2025\n",
    "\n",
    "- Driver statistics for the 2025 season\n",
    "\n",
    "- Recent race data from the Belgian Grand Prix 2025\n",
    "\n",
    "- Team statistics from 2024\n",
    "\n",
    "- Season summaries spanning 1950 to 2025\n",
    "\n",
    "The data is aggregated, cleaned and exported to seperate csv files{named: `drivers_2025.csv`, `teams.csv`, `belgian_gp.csv`, `seasons.csv` and `records.csv`} for analysis and visualization. \n",
    "\n"
   ]
  },
  {
   "cell_type": "markdown",
   "id": "70ceb63b-67c7-454e-9c23-d1debfd26ccf",
   "metadata": {},
   "source": [
    "## Import Libraries : \n",
    "- **selenium** : selenium is used for browser automation and scraping web content.\n",
    "- **pandas** : pandas for data handling and export data to csv files.\n",
    "- **time**: time itroduces pauses for loading.\n",
    "- **traceback**: traceback is used to handle errors. It captures and displays error messages. This helps for easier debugging. \n",
    "\n",
    "(used python standard library to know how to use time function. https://docs.python.org/3/library/time.html)"
   ]
  },
  {
   "cell_type": "code",
   "execution_count": null,
   "id": "62eede34-0c07-4289-8958-7d32b44d6cc9",
   "metadata": {},
   "outputs": [],
   "source": [
    "from selenium import webdriver\n",
    "from selenium.webdriver.chrome.options import Options\n",
    "from selenium.webdriver.common.by import By\n",
    "from selenium.webdriver.support.ui import WebDriverWait\n",
    "from selenium.webdriver.support import expected_conditions as EC\n",
    "import time\n",
    "import pandas as pd\n",
    "import traceback"
   ]
  },
  {
   "cell_type": "markdown",
   "id": "21fac0cd-acf2-43f9-a8f6-2406af0cfdbc",
   "metadata": {},
   "source": [
    "### URL 1: https://pitwall.app/drivers : contains drivers information for 2025 season\n",
    "### Step 1:  Load Webpage (drivers webpage) and Scrape Table\n",
    "\n",
    "Selenium is used to automate the loading of the Pitwall F1 webpage.\n",
    "The script opens a browser (in hidden \"headless\" mode), navigates to the URL, and scrolls to the bottom to ensure all data is fully loaded. \n",
    "\n",
    "Once the page is ready, the script locates the HTML table that contains driver data and extracts all of its rows for further analysis.\n",
    "These rows will later be parsed to pull out individual values such as driver name, team, number of races, wins, and podium finishes.\n",
    "\n",
    "This is the foundation step for gathering accurate, structured data directly from a web page."
   ]
  },
  {
   "cell_type": "markdown",
   "id": "83769a96-cde4-4270-aae2-c1f542c7a0f1",
   "metadata": {},
   "source": [
    "```python\n",
    "options = Options()\n",
    "driver = webdriver.Chrome(options=options)\n",
    "\n",
    "try:\n",
    "    driver.get(\"https://pitwall.app/drivers\")\n",
    "    time.sleep(3) \n",
    "    driver.execute_script(\"window.scrollTo(0, document.body.scrollHeight);\")\n",
    "    time.sleep(3)\n",
    "    #Explicit wait is used to ensure table rows are present before parsing them. \n",
    "    wait = WebDriverWait(driver, 10)\n",
    "    rows = wait.until(EC.presence_of_all_elements_located((By.CSS_SELECTOR, \"table tr\")))\n",
    "```"
   ]
  },
  {
   "cell_type": "markdown",
   "id": "84f85036-cc25-4b13-a1a9-d12e068ef20c",
   "metadata": {},
   "source": [
    "### Step 2- Extract Driver Stats : In this step, clean and structured data is prepared so it can be convereted into a pandas Dataframe.\n",
    "\n",
    "This for loop, loops through the table rows on the Pitwall driver page to extract performance metrics for each driver. The first row is skipped since it contains the column headers. \n",
    "\n",
    "Each row is expected to contain at least five cells:\n",
    "- Driver number and name\n",
    "- Team name\n",
    "- Number of races entered\n",
    "- Wins achieved\n",
    "- Number of Podium finishes\n",
    "\n",
    "The script pulls the above values, cleans them using .strip() to remove extra whitespace.\n",
    "Then, it converts numerical values to integers, and stores each driver's data in a dictionary. All dictionaries are added to a list, which will be used to build a full dataset in the next step. \n",
    "The for loop contains a try/except block. Error message will be printed if there is any issue while running the code.\n"
   ]
  },
  {
   "cell_type": "markdown",
   "id": "ab2741b8-7ecf-446e-97d6-1b9a26107597",
   "metadata": {},
   "source": [
    "```python\n",
    "   driver_data = []\n",
    "    for row in rows[1:]: \n",
    "        try:\n",
    "            #Extract columns within the row and skips rows with missing fields.\n",
    "            cols = row.find_elements(By.TAG_NAME, \"td\")\n",
    "            if len(cols) >= 5:\n",
    "                driver_number_name = cols[0].text.strip()\n",
    "                team = cols[1].text.strip()\n",
    "                races = int(cols[2].text.strip())\n",
    "                wins = int(cols[3].text.strip())\n",
    "                podiums = int(cols[4].text.strip())\n",
    "                driver_data.append({\n",
    "                    \"Driver\": driver_number_name,\n",
    "                    \"Team\": team,\n",
    "                    \"Races\": races,\n",
    "                    \"Wins\": wins,\n",
    "                    \"Podiums\": podiums\n",
    "                })\n",
    "        except Exception as e:\n",
    "            print(\"Error while parsing row:\")\n",
    "            traceback.print_exc()\n",
    "```"
   ]
  },
  {
   "cell_type": "markdown",
   "id": "682bb2b7-6eb0-487c-8305-848c59581517",
   "metadata": {},
   "source": [
    "### Step 3- Convert to DataFrame & Export\n",
    "- `pd.DataFrame(driver_data)`: Converts the list of dictionaries into tabular format.\n",
    "- `df.head()`: Displays the first few rows to verify the structure and contents before exporting.\n",
    "- `df.to_csv()`: Saves the data to a CSV file named (drivers_2025.csv). \n",
    "\n"
   ]
  },
  {
   "cell_type": "markdown",
   "id": "d5f37e51-b952-40a2-8564-9d1268de4422",
   "metadata": {},
   "source": [
    "```python\n",
    "    df = pd.DataFrame(driver_data)\n",
    "\n",
    "    df.to_csv(\"drivers_2025.csv\", index=False)\n",
    "    print(\" Data is exported to drivers_2025.csv\")\n",
    "\n",
    "except Exception as e:\n",
    "    print(\"Error during scraping:\")\n",
    "    traceback.print_exc()\n",
    "#finally runs even if the run was successful or not. driver.quit() inside finally function makes sure the browser is always closed after scraping. \n",
    "finally:\n",
    "    driver.quit()\n",
    "```"
   ]
  },
  {
   "cell_type": "markdown",
   "id": "7f0edd58-50a6-4d6b-8272-066669f3f6de",
   "metadata": {},
   "source": [
    "### Complete code in one cell to make the execution successful: drivers_2025.csv"
   ]
  },
  {
   "cell_type": "code",
   "execution_count": null,
   "id": "9d7619e0-850b-4ea9-8bb7-3141de72a341",
   "metadata": {},
   "outputs": [],
   "source": [
    "#Step 1: \n",
    "options = Options()\n",
    "driver = webdriver.Chrome(options=options)\n",
    "\n",
    "try:\n",
    "    driver.get(\"https://pitwall.app/drivers\")\n",
    "    time.sleep(3) \n",
    "    driver.execute_script(\"window.scrollTo(0, document.body.scrollHeight);\")\n",
    "    time.sleep(3)\n",
    "    wait = WebDriverWait(driver, 10)\n",
    "    rows = wait.until(EC.presence_of_all_elements_located((By.CSS_SELECTOR, \"table tr\")))\n",
    "#Step 2:\n",
    "    driver_data = []\n",
    "    for row in rows[1:]:  # Skip table header\n",
    "        try:\n",
    "            #Extract columns within the row and skips rows with missing fields.\n",
    "            cols = row.find_elements(By.TAG_NAME, \"td\")\n",
    "            if len(cols) >= 5:\n",
    "                driver_number_name = cols[0].text.strip()          \n",
    "                team = cols[1].text.strip()\n",
    "                races = int(cols[2].text.strip())\n",
    "                wins = int(cols[3].text.strip())\n",
    "                podiums = int(cols[4].text.strip())\n",
    "                #Store driver data as a dictionary.\n",
    "                driver_data.append({\n",
    "                    \"Driver\": driver_number_name,\n",
    "                    \"Team\": team,\n",
    "                    \"Races\": races,\n",
    "                    \"Wins\": wins,\n",
    "                    \"Podiums\": podiums\n",
    "                })\n",
    "        except Exception as e:\n",
    "            print(\"Error while parsing row:\")\n",
    "            traceback.print_exc()\n",
    "#Step 3:\n",
    "    df = pd.DataFrame(driver_data) \n",
    "    df.to_csv(\"drivers_2025.csv\", index=False)\n",
    "    print(\" Data is exported to drivers_2025.csv\")\n",
    "\n",
    "except Exception as e:\n",
    "    print(\"Error during scraping or exporting:\")\n",
    "    traceback.print_exc() \n",
    "finally:\n",
    "    driver.quit()"
   ]
  },
  {
   "cell_type": "markdown",
   "id": "4e7a521d-c0c5-4311-8c78-a992e802ae65",
   "metadata": {},
   "source": [
    "### Results: \n",
    "#### A csv file containing F1 Drivers performance for 2025 season is created.\n",
    "#### Key features: \n",
    "- Number of races\n",
    "-  podiums\n",
    "-  wins per driver "
   ]
  },
  {
   "cell_type": "markdown",
   "id": "1eaf76c7-0390-4322-8d11-f1197759a42c",
   "metadata": {},
   "source": [
    "## Same 3 Steps for scraping and exporting data to csv files are followed for the next three URLs."
   ]
  },
  {
   "cell_type": "markdown",
   "id": "04026a62-545b-4af7-b10c-c50d0704a60b",
   "metadata": {},
   "source": [
    "### URL 2: https://pitwall.app/teams/archive/2024 : contains Teams information and statistics for 2024 season"
   ]
  },
  {
   "cell_type": "code",
   "execution_count": null,
   "id": "4be9b605-cf65-413c-880a-085519065def",
   "metadata": {},
   "outputs": [],
   "source": [
    "#Step 1: \n",
    "options = Options()\n",
    "options.add_argument(\"--headless\")\n",
    "driver = webdriver.Chrome(options=options)\n",
    "\n",
    "try:\n",
    "    driver.get(\"https://pitwall.app/teams/archive/2024\")\n",
    "\n",
    "    WebDriverWait(driver, 10).until(\n",
    "        EC.presence_of_element_located((By.CSS_SELECTOR, \"table\"))\n",
    "    )\n",
    "\n",
    "    rows = driver.find_elements(By.CSS_SELECTOR, \"table tr\")\n",
    "    #Step 2: \n",
    "    team_data = []\n",
    "\n",
    "    for row in rows[1:]: \n",
    "        cols = row.find_elements(By.TAG_NAME, \"td\")\n",
    "        if len(cols) >= 4:\n",
    "            team = cols[0].text.strip()\n",
    "            drivers = cols[1].text.strip()\n",
    "            wins = cols[2].text.strip()\n",
    "            podiums = cols[3].text.strip()\n",
    "\n",
    "            team_data.append({\n",
    "                \"Team\": team,\n",
    "                \"Drivers\": drivers,\n",
    "                \"Wins\": wins,\n",
    "                \"Podiums\": podiums\n",
    "            })\n",
    "    #Step 3: \n",
    "    df = pd.DataFrame(team_data) \n",
    "    df.to_csv(\"teams_2024.csv\", index=False)\n",
    "    print(\"Exported to teams_2024.csv\")\n",
    "finally:\n",
    "    driver.quit()"
   ]
  },
  {
   "cell_type": "markdown",
   "id": "acd9070f-0f21-428b-872e-02a38ab7189b",
   "metadata": {},
   "source": [
    "### Results: \n",
    "#### A csv file containing team statistics for 2024 season is created.\n",
    "#### Key features: \n",
    "- Team Name\n",
    "- Drivers\n",
    "- Wins\n",
    "- Podiums\n"
   ]
  },
  {
   "cell_type": "markdown",
   "id": "d8246758-5339-4c89-99b9-df486346567e",
   "metadata": {},
   "source": [
    "### URL3: https://pitwall.app/races/2025-belgian-grand-prix : contains race results from Belgian grand prix.\n",
    "\n",
    "When the same steps as before are followed for this URL3, data from 1950 Belgian grand prix to 2025 Belgian grand prix results are stored in csv file. To clean up the csv file so only 2025 race results are included, an additional step is included in the code. "
   ]
  },
  {
   "cell_type": "markdown",
   "id": "5a6cad61-cabc-4b5f-8be8-6c2ed05c3d2c",
   "metadata": {},
   "source": [
    "## Trim and Export new Dataset\n",
    "\n",
    "In this step, `df.head(20)` is used to select the first 20 rows of the dataFrame(as the first 20 are race results from 2025 season) and stored in a new variable called {`df_trimmed`}.\n",
    "Then saved to same CSV file name belgian_gp.csv. The old dataFrame will ge gone and new dataFrame with values will be stored. \n"
   ]
  },
  {
   "cell_type": "code",
   "execution_count": null,
   "id": "6344bdcd-c581-44ee-b1f3-031d85b75dd1",
   "metadata": {},
   "outputs": [],
   "source": [
    "#Step 1: \n",
    "options = Options()\n",
    "driver = webdriver.Chrome(options=options)\n",
    "\n",
    "try:\n",
    "    driver.get(\"https://pitwall.app/races/2025-belgian-grand-prix\")\n",
    "    time.sleep(3)\n",
    "\n",
    "    rows = driver.find_elements(By.CSS_SELECTOR, \"table tr\")\n",
    "    #Step 2: \n",
    "    race_data = []\n",
    "    for row in rows[1:]:\n",
    "        cols = row.find_elements(By.TAG_NAME, \"td\")\n",
    "        if len(cols) >= 4:\n",
    "            position = cols[0].text.strip()\n",
    "            driver_name = cols[1].text.strip()\n",
    "            team = cols[2].text.strip()\n",
    "            time_or_gap = cols[3].text.strip()\n",
    "            race_data.append({\n",
    "                \"Position\": position,\n",
    "                \"Driver\": driver_name,\n",
    "                \"Team\": team,\n",
    "                \"Time/Gap\": time_or_gap\n",
    "            })\n",
    "#Step3:\n",
    "    pd.DataFrame(race_data).to_csv(\"belgian_gp.csv\", index=False)\n",
    "    print(\"Exported to belgian_gp_2025.csv\")\n",
    "finally:\n",
    "    driver.quit()\n",
    "\n",
    "# Additional step: \n",
    "df = pd.read_csv(\"belgian_gp.csv\")\n",
    "df_trimmed = df.head(20)\n",
    "df_trimmed.to_csv(\"belgian_gp.csv\", index=False)\n",
    "print(\"Successfully saved the new file with 20 rows\")"
   ]
  },
  {
   "cell_type": "markdown",
   "id": "104ce945-1f78-43b6-a44e-e966d74c3fdc",
   "metadata": {},
   "source": [
    "### Results: \n",
    "#### A csv file containing race results from 202 belgian grand prix is created.\n",
    "#### Key features: \n",
    "- Position of driver by the end of the race\n",
    "- Driver name\n",
    "- Team name\n",
    "- Time gap from race winner"
   ]
  },
  {
   "cell_type": "markdown",
   "id": "959a9282-f754-4ed5-8a6b-4f9eda88e316",
   "metadata": {},
   "source": [
    "### URL4: https://pitwall.app/records : contains all formula1 records so far and record holders. "
   ]
  },
  {
   "cell_type": "code",
   "execution_count": null,
   "id": "15a84964-aa8d-48d3-a66a-4589bdd60384",
   "metadata": {},
   "outputs": [],
   "source": [
    "#Step 1: \n",
    "options = Options()\n",
    "driver = webdriver.Chrome(options=options)\n",
    "\n",
    "try:\n",
    "    driver.get(\"https://pitwall.app/records\")\n",
    "    time.sleep(3)\n",
    "\n",
    "    rows = driver.find_elements(By.CSS_SELECTOR, \"table tr\")\n",
    "    #Step 2: \n",
    "    record_data = []\n",
    "    for row in rows[1:]:\n",
    "        cols = row.find_elements(By.TAG_NAME, \"td\")\n",
    "        if len(cols) >= 3:\n",
    "            category = cols[0].text.strip()\n",
    "            record_holder = cols[1].text.strip()\n",
    "            value = cols[2].text.strip()\n",
    "            record_data.append({\n",
    "                \"Category\": category,\n",
    "                \"Record Holder\": record_holder,\n",
    "                \"Value\": value\n",
    "            })\n",
    "#Step 3: \n",
    "    pd.DataFrame(record_data).to_csv(\"records.csv\", index=False)\n",
    "    print(\"Exported to records.csv\")\n",
    "finally:\n",
    "    driver.quit()"
   ]
  },
  {
   "cell_type": "markdown",
   "id": "b864b337-348f-47c4-9862-bae9bc257dab",
   "metadata": {},
   "source": [
    "### Results:\n",
    "#### A csv file containing all time records in formula 1 is created. \n",
    "#### Key features:\n",
    "- Category ( driver with highest podiums, driver with fastest lap time, team with most wins etc.)\n",
    "- Record Holder\n",
    "- Value"
   ]
  },
  {
   "cell_type": "markdown",
   "id": "770314f5-31f4-4187-b946-6079b88bdf25",
   "metadata": {},
   "source": [
    "### URL5: https://pitwall.app/seasons : statistics from each season are stored. \n",
    "This webscraping and exporting  code uses a different approach from other URLs. This is becuase if the same steps are followed from before URLs, the csv file contains to columns : season year and their respective URL for each season. It does not give detailed season statistics. \n"
   ]
  },
  {
   "cell_type": "markdown",
   "id": "d0c5a2eb-6393-409f-8306-dde3c6ce60a5",
   "metadata": {},
   "source": [
    "### Import additional Libraries\n",
    "- **requests** – to send HTTP requests and retrieve the page content  \n",
    "- **BeautifulSoup** – to parse and extract HTML elements from the page  "
   ]
  },
  {
   "cell_type": "code",
   "execution_count": null,
   "id": "8e93d03b-0cf9-4341-a7da-e2ef9f4a33a9",
   "metadata": {},
   "outputs": [],
   "source": [
    "import requests\n",
    "from bs4 import BeautifulSoup"
   ]
  },
  {
   "cell_type": "markdown",
   "id": "2051a82f-5ef6-41dd-ad62-5894737fc805",
   "metadata": {},
   "source": [
    "### Parse the Web Page\n",
    "\n",
    "A `.get()` request is sent to the Pitwall seasons page and parse the HTML content using `html.parser`. This gives access to the page structure and in this way the season statistics table can be isolated."
   ]
  },
  {
   "cell_type": "code",
   "execution_count": null,
   "id": "5f999ca1-1a64-4418-8e5d-e31a2d641ec7",
   "metadata": {},
   "outputs": [],
   "source": [
    "url = \"https://pitwall.app/seasons\"\n",
    "response = requests.get(url)\n",
    "soup = BeautifulSoup(response.content, \"html.parser\")\n"
   ]
  },
  {
   "cell_type": "markdown",
   "id": "e2d81bf6-b307-41de-b045-48035659cf0f",
   "metadata": {},
   "source": [
    "### Extract Seasons Data and exporting to csv file.\n",
    "\n",
    "We locate all the table rows (`<tr>`) and skip the first one since it's the header. For each valid row with six columns, we extract:\n",
    "\n",
    "- Season\n",
    "- Champion\n",
    "- Constructor Champion\n",
    "- Number of Races\n",
    "- Number of Drivers\n",
    "- Number of Teams\n",
    "List of season dictionaries are exported to season.csv file."
   ]
  },
  {
   "cell_type": "code",
   "execution_count": null,
   "id": "136573cb-16b7-4b59-8070-4b6e42c760ae",
   "metadata": {},
   "outputs": [],
   "source": [
    "rows = soup.find_all(\"tr\")[1:]  \n",
    "\n",
    "season_data = []\n",
    "\n",
    "for row in rows:\n",
    "    cols = [td.get_text(strip=True) for td in row.find_all(\"td\")]\n",
    "    if len(cols) == 6:\n",
    "        season_data.append({\n",
    "            \"Season\": cols[0],\n",
    "            \"Champion\": cols[1],\n",
    "            \"Constructor Champion\": cols[2],\n",
    "            \"Races\": int(cols[3]),\n",
    "            \"Drivers\": int(cols[4]),\n",
    "            \"Teams\": int(cols[5])\n",
    "        })\n",
    "df = pd.DataFrame(season_data)\n",
    "df.to_csv(\"seasons.csv\", index=False)\n",
    "print(\"Exported to seasons.csv\")"
   ]
  },
  {
   "cell_type": "markdown",
   "id": "fa7c1fdc-9780-4d29-bfea-0641667085df",
   "metadata": {},
   "source": [
    "### Results: \n",
    "#### A csv file containing every formula 1 season data is created.\n",
    "#### Each row in the table represents a season from 1950 through 2025 and includes details such as\n",
    "- world champion\n",
    "- constructor champion\n",
    "- the number of races, drivers, and teams involved."
   ]
  },
  {
   "cell_type": "markdown",
   "id": "c1e0e1c7-fdd9-4049-89ed-9e137e076c1a",
   "metadata": {},
   "source": [
    "## Analysis Question 1: What is the podium to driver ratio per team? "
   ]
  },
  {
   "cell_type": "markdown",
   "id": "b324f947-9714-463f-a510-e899648396e0",
   "metadata": {},
   "source": [
    "## Podium to driver ratio per team: \n",
    "\n",
    "This question analyzes the efficiency of Formula 1 teams in converting driver efforts into podium finishes. Extracting the number of drivers per team and calculating the podium-to-driver ratio provides a measure of each team's success relative to the size of its driver lineup. `teams_2024.csv` need to be used for this analysis.\n",
    "The dataset `teams_2024.csv` contains:\n",
    "- Team name\n",
    "- Drivers\n",
    "- Total podiums for each team"
   ]
  },
  {
   "cell_type": "markdown",
   "id": "d87f1804-583d-4d17-8259-1bc556c8d952",
   "metadata": {},
   "source": [
    "### Step 1: Parse Driver Strings and CountDrivers\n",
    "\n",
    "The driver srings containing `&` and `and` are replaced with `commas` to handle variablility. Next, the string is split and whitespace is removed to count number of unique drivers per team.\n",
    "`def count_drivers()` : This function counts number of drivers. \n",
    "In this step, a new column name `Driver_count` is created. "
   ]
  },
  {
   "cell_type": "markdown",
   "id": "63ad9e2a-c89f-4966-8d26-04f3d6431d62",
   "metadata": {},
   "source": [
    "### Step 2: Calculating Podium-to-Driver Ratio\n",
    "\n",
    "how many podiums each team earned per driver is calculated by dividing the total podiums by driver count:\n",
    "in simple words- \n",
    "\n",
    "{Podium-to-Driver Ratio} = {{Podiums}/{Driver Count}}\n",
    "\n",
    "This ratio reveals team-level efficiency:\n",
    "- A high ratio indicates a few drivers achieving many podiums.\n",
    "- A low ratio may indicate podiums are spread across more drivers or fewer podiums overall."
   ]
  },
  {
   "cell_type": "markdown",
   "id": "a6e3d911-5a34-4984-9b68-ffefc6ec4114",
   "metadata": {},
   "source": [
    "### Step 3: Formatted Output\n",
    "\n",
    " `tabulate` library presents the below columns in a double-grid format:\n",
    "- `Team`\n",
    "- `Driver Count`\n",
    "- `Podiums`\n",
    "- `Podium to Driver Ratio`\n"
   ]
  },
  {
   "cell_type": "code",
   "execution_count": null,
   "id": "5ba86978-c6fc-4a01-9f34-779d921181ca",
   "metadata": {},
   "outputs": [],
   "source": [
    "#Step 1:\n",
    "from tabulate import tabulate \n",
    "df = pd.read_csv('teams_2024.csv')\n",
    "\n",
    "def count_drivers(driver_string):\n",
    "    normalized = driver_string.replace('&', ',').replace('and', ',')\n",
    "    drivers = [d.strip() for d in normalized.split(',') if d.strip()]\n",
    "    return len(drivers)\n",
    "\n",
    "df['Driver Count'] = df['Drivers'].apply(count_drivers)\n",
    "#Step 2:\n",
    "df['Podium to Driver Ratio'] = (df['Podiums'] / df['Driver Count']).round(2)\n",
    "\n",
    "result = df[['Team', 'Driver Count', 'Podiums', 'Podium to Driver Ratio']]\n",
    "\n",
    "#Step 3:\n",
    "print(tabulate(result, headers='keys', tablefmt='double_grid'))"
   ]
  },
  {
   "cell_type": "markdown",
   "id": "e6dee349-fa81-4f8d-ad81-89c48d127fc7",
   "metadata": {},
   "source": [
    "### Results: \n",
    "- Red Bull Racing team has highest ratio of 9, indicating that few drivers (in this case 2) achieving many podiums (18).\n",
    "- Based on this data, teams with lowest ratio(0) : 5 teams indicate that there are few or even 0 podiums overall."
   ]
  },
  {
   "cell_type": "markdown",
   "id": "502e1334-c6bc-4090-a7ca-4355feca9b80",
   "metadata": {},
   "source": [
    "## Analysis Question 2: How has the number of races per season evolved over time?"
   ]
  },
  {
   "cell_type": "markdown",
   "id": "1917fb8f-b512-4955-927e-33dd5472d107",
   "metadata": {},
   "source": [
    "### Season Evolution:\n",
    "### Step 1: Load and Prepare the Dataset\n",
    "- `seaborn` and `matplotlib.pyplot` libraries need to be imported for crafting detailed visualizations. \n",
    "\n",
    "- `seasons.csv` dataset is loaded and data need to be convereted to appropriate datatypes for analysis.\n",
    "- `df = df[['Season', 'Races']].dropna()` : ensures that only `seasons` and `races` columns are present and removes any rows with missing values.\n",
    "- `df['Season'] = df['Season'].astype(int)` : Converts the Season column to integer type.\n",
    "- `df['Races'] = df['Races'].astype(int)` : Converts the Races column to integer type."
   ]
  },
  {
   "cell_type": "markdown",
   "id": "e9486f5d-e881-4e6a-9f06-1b3888c7fef6",
   "metadata": {},
   "source": [
    "### Step 2: Building a line plot and visualizing\n",
    "\n",
    "The Seaborn style is used for  a cleaner plot layout:\n",
    "\n",
    "`sns.set_style(\"whitegrid\")` : Applies a white grid background for better readability.\n",
    "- dark blue line plot is built that shows how the number of races has changed across seasons.\n",
    "\n",
    "The code where the line plot was built and labeled is commented with explanation for each important line."
   ]
  },
  {
   "cell_type": "code",
   "execution_count": null,
   "id": "a6c76c36-a93e-4a11-94ed-4acf9eebe4f6",
   "metadata": {},
   "outputs": [],
   "source": [
    "#Step 1:\n",
    "import seaborn as sns\n",
    "import matplotlib.pyplot as plt\n",
    "\n",
    "df = pd.read_csv('seasons.csv')\n",
    "\n",
    "df = df[['Season', 'Races']].dropna()\n",
    "df['Season'] = df['Season'].astype(int)\n",
    "df['Races'] = df['Races'].astype(int)\n",
    "\n",
    "#Step 2: \n",
    "sns.set_style(\"whitegrid\")\n",
    "\n",
    "plt.figure(figsize=(16, 6)) #Sets the figure size to make the plot wide and clear.\n",
    "line = sns.lineplot(data=df, x='Season', y='Races', marker='o', linewidth=2.5, color='darkblue')\n",
    "\n",
    "# Places labels slightly above each data point.\n",
    "for x, y in zip(df['Season'], df['Races']):\n",
    "    plt.text(x, y + 0.3, str(y), ha='center', va='bottom', fontsize=8, color='black')\n",
    "\n",
    "#A descriptive title and axis labels:\n",
    "plt.title('F1 Season Evolution: Number of races held for each season', fontsize=16, fontweight='bold')\n",
    "plt.xlabel('Season', fontsize=12) # Label for x- axis\n",
    "plt.ylabel('Number of Races', fontsize=12)# label for y- axis\n",
    "plt.ylim(5, 25)\n",
    "plt.yticks(range(5, 26, 1))\n",
    "plt.tight_layout()\n",
    "plt.show()"
   ]
  },
  {
   "cell_type": "markdown",
   "id": "10b49cdd-fcb9-4759-b5d8-31a2b643485d",
   "metadata": {},
   "source": [
    "### Results: \n",
    "\n",
    "The line graph reveals an upward trend in the number of Formula 1 races per season since the championship began in 1950. While early seasons featured only a handful of races, there has been a steady and significant increase over the decades. This reflects the sport’global expansion(as the races started to be held in various countries) and commercial growth.\n",
    "\n",
    "One noticeable dip occurs around 2019–2021, corresponding to the COVID-19 pandemic. Travel restrictions and health concerns led to reduced race calendars during that period.\n",
    "\n",
    "The recent seasons have reached record-breaking race counts.\n",
    "\n",
    "This visualization underscores F1’s evolving scale through global challenges."
   ]
  },
  {
   "cell_type": "markdown",
   "id": "31e4bf32-be3a-469e-9cf8-340a33b1ebdd",
   "metadata": {},
   "source": [
    "## Analysis Question 3: Which team and driver have the highest win and podium percentage from 1950-2025 seasons?"
   ]
  },
  {
   "cell_type": "markdown",
   "id": "4b8bfc39-d6e5-417d-a4f0-dbb369dd94c8",
   "metadata": {},
   "source": [
    "###  Step 1: Preparing data and extracting\n",
    "#### `seaborn` and `matplotlib.pyplot` libraries are imported.\n",
    "In this step, `records.csv` data is cleaned and transformed. dataclean and transform the raw `records.csv` data:\n",
    "\n",
    "- Filtering values: Only rows with `'%'` in the `Value` column are saved to focus on win/podium percentages.\n",
    "- Numeric Conversion: The `%` symbol is removed from each value, and the result is converted into a float under a new column called `Percentage`.\n",
    "- Categorization:\n",
    "  - `Level (Driver/Team)`: Identifies whether the record relates to a driver or a team.\n",
    "  - `Metric`: Extracts what kind of percentage metric is being measured (e.g., Win %, Podium %).\n",
    "\n",
    "After this step, the dataset is ready for grouped visualization.\n"
   ]
  },
  {
   "cell_type": "markdown",
   "id": "38a2f95f-2fc5-48d6-9762-6193c4e1f144",
   "metadata": {},
   "source": [
    "### Step 2: Visualization\n",
    "\n",
    "Using `seaborn.catplot`, a faceted bar chart is built. The bar chat is split by performance level:\n",
    "\n",
    "- x-axis: `Record Holder` — names of drivers or teams.\n",
    "- y-axis: `Percentage` — numeric performance metric.\n",
    "- `Metric` — distinguishes between win rate vs podium rate.\n",
    "- Columns: Facets separate charts by `Driver` and `Team`.\n",
    "\n",
    "This Label rotation and annotations improve readability."
   ]
  },
  {
   "cell_type": "code",
   "execution_count": null,
   "id": "0f07ca10-2dd2-4414-9215-ee8ccb7756dc",
   "metadata": {},
   "outputs": [],
   "source": [
    "#Step 1: \n",
    "import seaborn as sns\n",
    "import matplotlib.pyplot as plt\n",
    "df = pd.read_csv(\"records.csv\")\n",
    "\n",
    "df_percent = df[df['Value'].str.contains('%', na=False)].copy()\n",
    "df_percent[\"Percentage\"] = df_percent[\"Value\"].str.replace('%', '').astype(float)\n",
    "df_percent[\"Level (Driver/Team)\"] = df_percent[\"Category\"].apply(\n",
    "    lambda x: \"Driver\" if x.lower().startswith(\"driver\") else \"Team\"\n",
    ")\n",
    "df_percent[\"Metric\"] = df_percent[\"Category\"].str.replace(\"Driver \", \"\").str.replace(\"Team \", \"\")\n",
    "\n",
    "# Step 2: \n",
    "sns.set(style=\"whitegrid\")\n",
    "g = sns.catplot(\n",
    "    data=df_percent,\n",
    "    kind='bar',\n",
    "    x='Record Holder',\n",
    "    y='Percentage',\n",
    "    hue='Metric',\n",
    "    col='Level (Driver/Team)',\n",
    "    height=5,\n",
    "    aspect=1.5,\n",
    "    palette='muted'\n",
    ")\n",
    "# Rotate labels and add percentage text\n",
    "for ax in g.axes.flat:\n",
    "    for label in ax.get_xticklabels():\n",
    "        label.set_rotation(45)\n",
    "        label.set_ha('right')\n",
    "\n",
    "    for p in ax.patches:\n",
    "        height = p.get_height()\n",
    "        if pd.notnull(height) and height > 0:\n",
    "            ax.text(\n",
    "                p.get_x() + p.get_width() / 2.,\n",
    "                height + 0.5,\n",
    "                f'{height:.1f}%',\n",
    "                ha='center',\n",
    "                va='bottom',\n",
    "                fontsize=9\n",
    "            )\n",
    "\n",
    "plt.subplots_adjust(top=0.85)\n",
    "g.fig.suptitle('Highest Win and Podium Percentages by Driver and Team')\n",
    "plt.show()\n",
    "\n"
   ]
  },
  {
   "cell_type": "markdown",
   "id": "770747de-ef8e-4287-a13e-6380e3cef249",
   "metadata": {},
   "source": [
    "### Results: \n",
    "\n",
    "- **Podium %** indicates reliability and ability to stay competitive over time. \n",
    "- **Win %** is more exclusive and highlights race-winning dominance.\n",
    "- Lee Wallard holding a win rate of 50% is extraordinary. It suggests he won half the races he entered.\n",
    "- Dorino Serafini’s 100% podium rate implies he made it to the top 3 in every single race he participated in. \n",
    "- With a 47.1% win rate, Brawn GP is a prime example of single-season dominance.\n",
    "- Kurtis, with a 66.7% podium rate, shows strong competitiveness even if their win rate isn't as high.\n",
    "\n"
   ]
  },
  {
   "cell_type": "markdown",
   "id": "29e629e7-254a-433d-ac6d-f12fba44cddd",
   "metadata": {},
   "source": [
    "## Analysis Question 4: Who are the top drivers with the highest podium efficiency (podiums per race) in the 2025 season, and how many podiums did each achieve?"
   ]
  },
  {
   "cell_type": "markdown",
   "id": "85f62313-ba84-497f-8693-af76875a8886",
   "metadata": {},
   "source": [
    "#### Step 1: Load Data and Calculate Podium Rate\n",
    "- `matplotlib.pyplot` is imported\n",
    "- `drivers_2025.csv` is loaded and podium rate for each driver is calculated.\n",
    "- Podium rate = number of podiums/number of races participated.\n",
    "  \n",
    "`df['PodiumToRaceRatio'] = df['Podiums'] / df['Races']`"
   ]
  },
  {
   "cell_type": "markdown",
   "id": "f5fd5d4a-1abb-4d45-b451-9e67e935ef70",
   "metadata": {},
   "source": [
    "### Step 2: Filtering and Sorting Drivers by Podium Rate\n",
    "- drivers with zero podiums are removed.\n",
    "- top 10 drivers with podium rate are sorted. \n",
    "`top_drivers = df_sorted.head(10).copy()`"
   ]
  },
  {
   "cell_type": "markdown",
   "id": "755fba2d-80d8-40ac-ba91-ec84714466a4",
   "metadata": {},
   "source": [
    "### Step 3: Plotting Podium Rate with Color Gradient\n",
    "We plot the podium rate on the y-axis with bars colored by rate intensity using a color gradient. Each bar is annotated with the driver’s total podium count for context.\n",
    "- Podium rate is plotted on y-axis with bars colored by the rate intensity using a color gradient.\n",
    "- Each bar is annotatedd with the driver's total podium count.\n",
    "\n",
    "\n",
    "**Note** : The output will give only 7 drivers on the plot. It is becuase in the 2025 season only 8 drivers secured podiums out of 20. "
   ]
  },
  {
   "cell_type": "code",
   "execution_count": null,
   "id": "4fc81341-e228-4cc2-82da-c00e428f2d45",
   "metadata": {},
   "outputs": [],
   "source": [
    "#Step 1: \n",
    "import matplotlib.pyplot as plt\n",
    "df = pd.read_csv('drivers_2025.csv')\n",
    "\n",
    "df['PodiumToRaceRatio'] = df['Podiums'] / df['Races']\n",
    "\n",
    "#Step 2:\n",
    "df_filtered = df[df['PodiumToRaceRatio'] > 0]\n",
    "df_sorted = df_filtered.sort_values(by='PodiumToRaceRatio', ascending=False)\n",
    "top_drivers = df_sorted.head(10).copy()\n",
    "\n",
    "#Step 3:\n",
    "norm = plt.Normalize(top_drivers['PodiumToRaceRatio'].min(), top_drivers['PodiumToRaceRatio'].max())\n",
    "colors = plt.cm.viridis(norm(top_drivers['PodiumToRaceRatio']))\n",
    "fig, ax = plt.subplots(figsize=(12, 7))\n",
    "bars = ax.bar(top_drivers['Driver'], top_drivers['PodiumToRaceRatio'], color=colors)\n",
    "\n",
    "for bar, podiums in zip(bars, top_drivers['Podiums']):\n",
    "    height = bar.get_height()\n",
    "    ax.text(bar.get_x() + bar.get_width() / 2, height + 0.02,\n",
    "            f'Podiums: {podiums}', ha='center', va='bottom', fontsize=9, fontweight='bold')\n",
    "ax.set_ylabel('Podium Rate (Podiums per Race)')\n",
    "ax.set_xlabel('Driver')\n",
    "ax.set_title('Top 10 Drivers by Podium Efficiency (2025 Season)')\n",
    "plt.xticks(rotation=45, ha='right')\n",
    "plt.ylim(0, top_drivers['PodiumToRaceRatio'].max() + 0.1)\n",
    "plt.grid(axis='y', linestyle='--', alpha=0.7)\n",
    "sm = plt.cm.ScalarMappable(cmap='viridis', norm=norm)\n",
    "sm.set_array([])\n",
    "cbar = plt.colorbar(sm, ax=ax)\n",
    "cbar.set_label('Podium Rate')\n",
    "\n",
    "plt.tight_layout()\n",
    "plt.show()\n"
   ]
  },
  {
   "cell_type": "markdown",
   "id": "45cb3294-4841-4ba3-8f67-1224b6034e82",
   "metadata": {},
   "source": [
    "### Results : \n",
    "This plot highlights drivers who are most efficient at converting race participations into podium finishes.\n",
    "\n",
    "Drivers with higher podium rates consistently finish in the top three, regardless of total races.\n",
    "\n",
    "The top drivers are :\n",
    "#4 Lando Norris and #81 Oscar Piastri\n",
    "\n",
    "and they both achieve same number of podiums : 12."
   ]
  },
  {
   "cell_type": "markdown",
   "id": "2d5476ed-5e03-4a46-aad8-a996b6853725",
   "metadata": {},
   "source": [
    "### External Resources used: \n",
    "https://www.browserstack.com/guide/python-selenium-to-run-web-automation-test\n",
    "\n",
    "https://docs.python.org/3/library/index.html\n",
    "\n",
    "https://stackoverflow.com/questions/25668828/how-to-create-colour-gradient-in-python\n",
    "\n",
    "https://realpython.com/python-requests/"
   ]
  },
  {
   "cell_type": "code",
   "execution_count": null,
   "id": "cd8b8c69-e846-4c3e-b729-11bae9b13528",
   "metadata": {},
   "outputs": [],
   "source": []
  }
 ],
 "metadata": {
  "kernelspec": {
   "display_name": "Python [conda env:base] *",
   "language": "python",
   "name": "conda-base-py"
  },
  "language_info": {
   "codemirror_mode": {
    "name": "ipython",
    "version": 3
   },
   "file_extension": ".py",
   "mimetype": "text/x-python",
   "name": "python",
   "nbconvert_exporter": "python",
   "pygments_lexer": "ipython3",
   "version": "3.13.5"
  }
 },
 "nbformat": 4,
 "nbformat_minor": 5
}
